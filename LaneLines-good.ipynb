{
 "cells": [
  {
   "cell_type": "code",
   "execution_count": 1,
   "metadata": {
    "collapsed": true,
    "deletable": true,
    "editable": true
   },
   "outputs": [],
   "source": [
    "import matplotlib.pyplot as plt\n",
    "import matplotlib.image as mpimg\n",
    "import matplotlib.gridspec as gridspec\n",
    "import cv2\n",
    "import numpy as np\n",
    "import pickle as pickle\n",
    "import pandas as pd\n",
    "import glob\n",
    "import settings\n",
    "%matplotlib inline"
   ]
  },
  {
   "cell_type": "markdown",
   "metadata": {
    "deletable": true,
    "editable": true
   },
   "source": [
    "#### Helpers"
   ]
  },
  {
   "cell_type": "markdown",
   "metadata": {
    "deletable": true,
    "editable": true
   },
   "source": [
    "#### Load data from pickle files"
   ]
  },
  {
   "cell_type": "code",
   "execution_count": 2,
   "metadata": {
    "collapsed": false,
    "deletable": true,
    "editable": true
   },
   "outputs": [],
   "source": [
    "data = pickle.load( open( \"camera_calibration.p\", \"rb\" ) )\n",
    "camera_matrix = data['mtx']\n",
    "dist_coeffs = data['dist']\n",
    "\n",
    "perspective_transform_data = pickle.load(open(\"perspective.p\", 'rb'))\n",
    "x_pixels_per_meter = perspective_transform_data['x_pixels_per_meter']\n",
    "y_pixels_per_meter = perspective_transform_data['y_pixels_per_meter']\n",
    "M = perspective_transform_data['homography_matrix']\n",
    "src_pts = perspective_transform_data['source_points']"
   ]
  },
  {
   "cell_type": "markdown",
   "metadata": {
    "deletable": true,
    "editable": true
   },
   "source": [
    "### Image example"
   ]
  },
  {
   "cell_type": "markdown",
   "metadata": {
    "deletable": true,
    "editable": true
   },
   "source": [
    "### Load project video data"
   ]
  },
  {
   "cell_type": "markdown",
   "metadata": {
    "deletable": true,
    "editable": true
   },
   "source": [
    "* Project Video data"
   ]
  },
  {
   "cell_type": "code",
   "execution_count": 3,
   "metadata": {
    "collapsed": false,
    "deletable": true,
    "editable": true
   },
   "outputs": [
    {
     "data": {
      "text/html": [
       "<div>\n",
       "<table border=\"1\" class=\"dataframe\">\n",
       "  <thead>\n",
       "    <tr style=\"text-align: right;\">\n",
       "      <th></th>\n",
       "      <th>image_path</th>\n",
       "      <th>frame</th>\n",
       "    </tr>\n",
       "  </thead>\n",
       "  <tbody>\n",
       "    <tr>\n",
       "      <th>0</th>\n",
       "      <td>./data/IMG/0.jpg</td>\n",
       "      <td>0</td>\n",
       "    </tr>\n",
       "    <tr>\n",
       "      <th>1</th>\n",
       "      <td>./data/IMG/1.jpg</td>\n",
       "      <td>1</td>\n",
       "    </tr>\n",
       "    <tr>\n",
       "      <th>2</th>\n",
       "      <td>./data/IMG/2.jpg</td>\n",
       "      <td>2</td>\n",
       "    </tr>\n",
       "    <tr>\n",
       "      <th>3</th>\n",
       "      <td>./data/IMG/3.jpg</td>\n",
       "      <td>3</td>\n",
       "    </tr>\n",
       "    <tr>\n",
       "      <th>4</th>\n",
       "      <td>./data/IMG/4.jpg</td>\n",
       "      <td>4</td>\n",
       "    </tr>\n",
       "  </tbody>\n",
       "</table>\n",
       "</div>"
      ],
      "text/plain": [
       "         image_path  frame\n",
       "0  ./data/IMG/0.jpg      0\n",
       "1  ./data/IMG/1.jpg      1\n",
       "2  ./data/IMG/2.jpg      2\n",
       "3  ./data/IMG/3.jpg      3\n",
       "4  ./data/IMG/4.jpg      4"
      ]
     },
     "execution_count": 3,
     "metadata": {},
     "output_type": "execute_result"
    }
   ],
   "source": [
    "df = pd.read_csv('./data/driving.csv')\n",
    "df.head(5)"
   ]
  },
  {
   "cell_type": "markdown",
   "metadata": {
    "deletable": true,
    "editable": true
   },
   "source": [
    "* Challenge Video Data"
   ]
  },
  {
   "cell_type": "code",
   "execution_count": 4,
   "metadata": {
    "collapsed": false,
    "deletable": true,
    "editable": true
   },
   "outputs": [
    {
     "data": {
      "text/html": [
       "<div>\n",
       "<table border=\"1\" class=\"dataframe\">\n",
       "  <thead>\n",
       "    <tr style=\"text-align: right;\">\n",
       "      <th></th>\n",
       "      <th>image_path</th>\n",
       "      <th>frame</th>\n",
       "    </tr>\n",
       "  </thead>\n",
       "  <tbody>\n",
       "    <tr>\n",
       "      <th>0</th>\n",
       "      <td>./data/CHALLENGE/1.jpg</td>\n",
       "      <td>1</td>\n",
       "    </tr>\n",
       "    <tr>\n",
       "      <th>1</th>\n",
       "      <td>./data/CHALLENGE/2.jpg</td>\n",
       "      <td>2</td>\n",
       "    </tr>\n",
       "    <tr>\n",
       "      <th>2</th>\n",
       "      <td>./data/CHALLENGE/3.jpg</td>\n",
       "      <td>3</td>\n",
       "    </tr>\n",
       "  </tbody>\n",
       "</table>\n",
       "</div>"
      ],
      "text/plain": [
       "               image_path  frame\n",
       "0  ./data/CHALLENGE/1.jpg      1\n",
       "1  ./data/CHALLENGE/2.jpg      2\n",
       "2  ./data/CHALLENGE/3.jpg      3"
      ]
     },
     "execution_count": 4,
     "metadata": {},
     "output_type": "execute_result"
    }
   ],
   "source": [
    "dc = pd.read_csv('./data/challenge.csv')\n",
    "dc.head(3)"
   ]
  },
  {
   "cell_type": "code",
   "execution_count": 5,
   "metadata": {
    "collapsed": false,
    "deletable": true,
    "editable": true
   },
   "outputs": [],
   "source": [
    "import os\n",
    "test_images = []\n",
    "for file in glob.glob('./test_images/test*'):\n",
    "#     print('file is : ', file)\n",
    "    test_images.append(file)"
   ]
  },
  {
   "cell_type": "code",
   "execution_count": 6,
   "metadata": {
    "collapsed": false,
    "deletable": true,
    "editable": true
   },
   "outputs": [],
   "source": [
    "test_images.append('./test_images/straight_lines1.jpg')\n",
    "test_images.append('./test_images/straight_lines2.jpg')"
   ]
  },
  {
   "cell_type": "code",
   "execution_count": 7,
   "metadata": {
    "collapsed": false,
    "deletable": true,
    "editable": true
   },
   "outputs": [
    {
     "data": {
      "text/plain": [
       "<matplotlib.image.AxesImage at 0x7f27456a27f0>"
      ]
     },
     "execution_count": 7,
     "metadata": {},
     "output_type": "execute_result"
    },
    {
     "data": {
      "image/png": "[encoded data removed]",
      "text/plain": [
       "<matplotlib.figure.Figure at 0x7f274779fb70>"
      ]
     },
     "metadata": {},
     "output_type": "display_data"
    }
   ],
   "source": [
    "test_1 = mpimg.imread(test_images[5])\n",
    "plt.imshow(test_1)"
   ]
  },
  {
   "cell_type": "markdown",
   "metadata": {
    "deletable": true,
    "editable": true
   },
   "source": [
    "### LaneFinder"
   ]
  },
  {
   "cell_type": "code",
   "execution_count": 8,
   "metadata": {
    "collapsed": false,
    "deletable": true,
    "editable": true
   },
   "outputs": [],
   "source": [
    "class LaneFinder():\n",
    "    def __init__(self, \n",
    "                 img_size, \n",
    "                 warped_size, \n",
    "                 camera_matrix, \n",
    "                 dist_coeffs,\n",
    "                 transform_matrix,\n",
    "                 x_pixels_per_meter, y_pixels_per_meter):\n",
    "        self.img_size = img_size\n",
    "        self.warped_size = warped_size\n",
    "        self.camera_matrix = camera_matrix\n",
    "        self.dist_coeffs = dist_coeffs\n",
    "        self.transform_matrix = transform_matrix\n",
    "        self.x_pixels_per_meter = x_pixels_per_meter\n",
    "        self.y_pixels_per_meter = y_pixels_per_meter\n",
    "        self.roi_mask = np.ones((self.warped_size[1], self.warped_size[0],3), dtype=np.uint8)\n",
    "        self.mask = np.zeros((self.warped_size[1], self.warped_size[0], 3), dtype = np.uint8)\n",
    "        self.real_mask = np.zeros((self.warped_size[1], self.warped_size[0],3), dtype = np.uint8)\n",
    "        self.left_line = LaneLineFinder(warped_size, x_pixels_per_meter, y_pixels_per_meter, kind = 'left')\n",
    "        self.right_line = LaneLineFinder(warped_size, self.x_pixels_per_meter, self.y_pixels_per_meter, kind = 'right') \n",
    "        self.found_both = False\n",
    "        \n",
    "        \n",
    "    def warp(self, img):\n",
    "        return cv2.warpPerspective(img, self.transform_matrix, self.warped_size, \n",
    "                                   flags=cv2.WARP_FILL_OUTLIERS + cv2.INTER_NEAREST)\n",
    "    \n",
    "    def unwarp(self, img):\n",
    "        return cv2.warpPerspective(img, self.transform_matrix, self.img_size, \n",
    "                                   flags = cv2.WARP_FILL_OUTLIERS + cv2.INTER_NEAREST + cv2.WARP_INVERSE_MAP)\n",
    "    \n",
    "    def undistort(self, img):\n",
    "        return cv2.undistort(img, self.camera_matrix, self.dist_coeffs)\n",
    "    \n",
    "    def add_weighted(self, base, lines):\n",
    "        return cv2.addWeighted(base, 1.0, lines, .6, 0.0)\n",
    "    \n",
    "    def process_image(self, image):\n",
    "        \"\"\"\n",
    "        Process image full pipeline applied to video stream\n",
    "        input: image: original image\n",
    "        output: original image with lane lines overlayed\n",
    "        \"\"\"\n",
    "        lanes = self.find_lane(image)\n",
    "#         print('inside process image lanes: ', lanes)\n",
    "        \n",
    "        # Unwarp the lane lines\n",
    "        unwarped_lanes = self.unwarp(lanes)\n",
    "        \n",
    "        # Overlay the warped lanes\n",
    "        \n",
    "        # option a) unwarp the image and then plot\n",
    "        # option b) overlay onto the actual image\n",
    "        weighted_warped = self.add_weighted(self.warp(image), lanes)\n",
    "        \n",
    "        return weighted_warped\n",
    "    \n",
    "#         drawn_lanes_original = self.add_weighted(image, unwarped_lanes)\n",
    "        \n",
    "#         return drawn_lanes_original\n",
    "        \n",
    "        \n",
    "    \n",
    "    def find_lane(self, image, distorted = True, FLAG = False):\n",
    "        \"\"\"\n",
    "        Pipeline:\n",
    "        1) Undistort\n",
    "        2) Perspective Transform\n",
    "        3) Blur\n",
    "        4) Convert to HLS and LAB and use the Luminance channel to identify yellow lines\n",
    "        \"\"\"\n",
    "        if FLAG == True:\n",
    "            self.left_line.reset_lane_line()\n",
    "            self.right_line.reset_lane_lin()\n",
    "        \n",
    "        # 1) Undistort the image\n",
    "        # TODO: Add conditional to flag distortion\n",
    "        img = self.undistort(image)\n",
    "        \n",
    "        # 2) Apply perspective transform\n",
    "        warped = self.warp(img)\n",
    "        \n",
    "        # 3) Blur\n",
    "        blur_kernel = 5\n",
    "        img_hls = cv2.cvtColor(warped, cv2.COLOR_RGB2HLS)\n",
    "        img_lab = cv2.cvtColor(warped, cv2.COLOR_RGB2LAB)\n",
    "        \n",
    "        img_hls = cv2.medianBlur(img_hls, blur_kernel)\n",
    "        img_lab = cv2.medianBlur(img_lab, blur_kernel)\n",
    "        \n",
    "        # Get structuring element for morph transforms\n",
    "        # note: Select structuring element to be large enough so that it won't fit inside the objects to be removed\n",
    "        large_kernel = cv2.getStructuringElement(cv2.MORPH_ELLIPSE, (31, 31))\n",
    "        small_kernel = cv2.getStructuringElement(cv2.MORPH_RECT, (7, 7))\n",
    "                \n",
    "        # The road is dark, so extract bright regions out of the image\n",
    "        # If L in HLS is greater than 190 then it is bright\n",
    "        # Also filter out low saturation < 50\n",
    "        hls_filter = cv2.inRange(img_hls, (0, 0, 50), (30, 192, 255))\n",
    "        \n",
    "        yellow = hls_filter & (img_lab[:,:,2].astype(np.uint8) > 127)\n",
    "            \n",
    "        # Logical not means find inverse because later on we will combine this mask with the self.mask\n",
    "        roi_mask = np.logical_not(yellow).astype(np.uint8)\n",
    "        # cut out the bright stuff\n",
    "        roi_mask = (roi_mask & (img_hls[:,:,1] < 245)).astype(np.uint8)\n",
    "        \n",
    "        # perform OPEN morphology (erosion + dilation) to reduce noise\n",
    "        roi_mask = cv2.morphologyEx(roi_mask, cv2.MORPH_OPEN, small_kernel)\n",
    "        \n",
    "        # roi_mask is a binary mask\n",
    "        # perform Dilation morphology for enhancement on larger features\n",
    "        roi_mask = cv2.dilate(roi_mask, large_kernel)\n",
    "\n",
    "\n",
    "        self.roi_mask[:,:,0] = (self.left_line.line_mask | self.right_line.line_mask) & roi_mask\n",
    "        self.roi_mask[:,:,1] = self.roi_mask[:,:,0]\n",
    "        self.roi_mask[:,:,2] = self.roi_mask[:,:,0]\n",
    "\n",
    "    \n",
    "        # perform tophat (original - opening)\n",
    "        tophat_kernel = cv2.getStructuringElement(cv2.MORPH_ELLIPSE, (7, 3))\n",
    "        black = cv2.morphologyEx(img_lab[:,:,0], cv2.MORPH_TOPHAT, tophat_kernel)\n",
    "        lanes = cv2.morphologyEx(img_hls[:,:,1], cv2.MORPH_TOPHAT, tophat_kernel)\n",
    "        \n",
    "        rect_kernel = cv2.getStructuringElement(cv2.MORPH_RECT, (13, 13))\n",
    "        yellow_lanes = cv2.morphologyEx(img_lab[:,:,2], cv2.MORPH_TOPHAT, rect_kernel)\n",
    "        \n",
    "        # Adaptive thresholding\n",
    "        self.mask[:,:,0] = cv2.adaptiveThreshold(black, 50, cv2.ADAPTIVE_THRESH_MEAN_C, cv2.THRESH_BINARY, 13, -6)\n",
    "        self.mask[:,:,1] = cv2.adaptiveThreshold(lanes, 60, cv2.ADAPTIVE_THRESH_MEAN_C, cv2.THRESH_BINARY, 11, -4)\n",
    "        self.mask[:,:,2] = cv2.adaptiveThreshold(yellow_lanes, 60, cv2.ADAPTIVE_THRESH_MEAN_C, cv2.THRESH_BINARY, 11, -1.5)\n",
    "\n",
    "        diff_mask = self.mask * self.roi_mask\n",
    "        small_ellipse = cv2.getStructuringElement(cv2.MORPH_ELLIPSE, (3, 3))\n",
    "        \n",
    "        # grab any values that are nonzero\n",
    "        self.total_mask = np.any(diff_mask, axis = 2).astype(np.uint8)\n",
    "        # erosion on total_mask to reduce noise\n",
    "        self.total_mask = cv2.morphologyEx(self.total_mask, cv2.MORPH_ERODE, small_ellipse)\n",
    "        \n",
    "        left_mask = self.total_mask\n",
    "        right_mask = self.total_mask\n",
    "        if self.right_line.found:\n",
    "            # left mask is NOT the right line mask and not the right line's other mask, this mask is binary\n",
    "            left_mask = self.total_mask & np.logical_not(self.right_line.line_mask) & self.right_line.other_mask\n",
    "        if self.left_line.found:\n",
    "            right_mask = self.total_mask & np.logical_note(self.left_line.lin_mask) & self.left_line.other_mask\n",
    "                    \n",
    "        lanes = self.left_line.find_lane_line(left_mask, FLAG)\n",
    "        return lanes"
   ]
  },
  {
   "cell_type": "markdown",
   "metadata": {
    "deletable": true,
    "editable": true
   },
   "source": [
    "### Lane Line Finder"
   ]
  },
  {
   "cell_type": "code",
   "execution_count": 9,
   "metadata": {
    "collapsed": false,
    "deletable": true,
    "editable": true
   },
   "outputs": [],
   "source": [
    "from helpers import add_recent_centers\n",
    "class LaneLineFinder():\n",
    "    \"\"\"\n",
    "    This class performs the individual calculations on a single lane line\n",
    "    \"\"\"\n",
    "    def __init__(self, img_size, x_pixels_per_meter, y_pixels_per_meter, kind = 'none'):\n",
    "        self.img_size = img_size\n",
    "        self.x_pixels_per_meter = x_pixels_per_meter\n",
    "        self.y_pixels_per_meter = y_pixels_per_meter\n",
    "        self.kind = kind # specify left or right lane\n",
    "        self.line_mask = np.ones((img_size[1], img_size[0]), dtype=np.uint8) # create 2D line mask\n",
    "        self.recent_centers = []\n",
    "        self.smooth_factor = 15\n",
    "        self.prev_left_center = 185\n",
    "        self.prev_right_center = 376\n",
    "        self.left_recent_centers_averaged = []\n",
    "        self.right_recent_centers_averaged = []\n",
    "        self.recent_centers_averaged = []\n",
    "        self.count = 0\n",
    "        self.found = False\n",
    "\n",
    "#################################################################################################################\n",
    "#################################################################################################################\n",
    "        \n",
    "    def find_lane_line(self, mask, FLAG):\n",
    "        \"\"\"\n",
    "        Perform convolutional sliding window\n",
    "        Identify points of interest and save them\n",
    "        Then pass the saved points to fit_lane_line where you apply polynomial fit\n",
    "        input: mask (shape [500, 600])\n",
    "        \"\"\"\n",
    "        img_width = self.img_size[0] # 500\n",
    "        img_height = self.img_size[1] # 600\n",
    "\n",
    "        self.window_width = 40\n",
    "        self.window_height = 70\n",
    "\n",
    "        window_centroids = self.find_window_centroids(mask, \n",
    "                                                 window_width = self.window_width, \n",
    "                                                 window_height = self.window_height,\n",
    "                                                 margin_width = 35,\n",
    "#                                                  margin_height = 35,\n",
    "                                                 margin_height = 25,\n",
    "                                                 FLAG = FLAG)\n",
    "        \n",
    "#         print('window_centroids in find_lane_lines: ', window_centroids)\n",
    "        [left_pts, right_pts], [leftx, rightx] = self.get_line_pts(mask, window_centroids)\n",
    "        \n",
    "        \n",
    "        # To check accuracy of window centroids\n",
    "        weighted, mask =  draw_lines_weighted(left_pts, right_pts, mask)\n",
    "\n",
    "        \n",
    "        left_lane, right_lane, left_fitx, right_fitx, y_values = self.fit_lines(window_centroids, \n",
    "                                               leftx, \n",
    "                                               rightx, \n",
    "                                               self.window_width, \n",
    "                                               self.window_height)\n",
    "        \n",
    "        \n",
    "        road_lines = self.draw_lines(left_lane, right_lane, left_fitx, right_fitx, y_values)\n",
    "        # points now is an array containing [left_points, right_points]\n",
    "        return road_lines\n",
    "#         return road_lines, weighted, mask\n",
    "\n",
    "    #################################################################################################################\n",
    "    #################################################################################################################\n",
    "    \n",
    "    def find_window_centroids(self, mask, \n",
    "                          window_width, \n",
    "                          window_height, \n",
    "                          margin_width,\n",
    "                          margin_height,\n",
    "                          FLAG):\n",
    "        img_width = self.img_size[0] # 500\n",
    "        img_height = self.img_size[1] # 600\n",
    "        \n",
    "\n",
    "        \n",
    "        window = np.ones((window_width))\n",
    "        window_centroids = []\n",
    "        \n",
    "        left_x_vals = []\n",
    "        right_x_vals = []\n",
    "\n",
    "        window_vertical_start = int((3/4) * img_height) + 7\n",
    "        window_horizontal_start = int(img_width/2) - 62\n",
    "        \n",
    "#         print('window_vertical_start: ', window_vertical_start) # 450\n",
    "#         print('window_horizontal_start: ', window_horizontal_start) # 250\n",
    "        \n",
    "        left_sum = np.sum(mask[window_vertical_start:,:window_horizontal_start], axis = 0)\n",
    "        left_signal = np.convolve(window, left_sum)\n",
    "        left_max = np.argmax(left_signal)\n",
    "        \n",
    "        right_sum = np.sum(mask[window_vertical_start:,window_horizontal_start:], axis = 0)\n",
    "        right_signal = np.convolve(window, right_sum)\n",
    "        right_max = np.argmax(right_signal) + window_horizontal_start\n",
    "        \n",
    "        from scipy.stats import describe\n",
    "        \n",
    "#         print('type of left_signal: ', type(left_signal))\n",
    "#         print('left signal shape: ', left_signal.shape)\n",
    "#         print('mean value of left signal: ', np.mean(left_signal))\n",
    "#         print('left signal describe ', describe(left_signal))\n",
    "        print('right_signal shape: ', right_signal.shape)\n",
    "        print('describe right signal: ', describe(right_signal))\n",
    "        good_rights = right_signal[right_signal > 100]\n",
    "        if (len(good_rights)) < 50:\n",
    "            # reset line somehow\n",
    "            return self.reset_line\n",
    "            \n",
    "            self.right_line_isbad = True\n",
    "        print('good_rights: ', good_rights)\n",
    "#         print('left_signal: ', left_signal)\n",
    "#         good_left_signals = left_signal[np.where(left_signal < 650)] = 0\n",
    "        \n",
    "        \n",
    "#         print('good left signals: ', good_left_signals)\n",
    "# #         print('length good left signals: ', len(good_left_signals))\n",
    "#         print('type good left signals: ', type(good_left_signals))\n",
    "        \n",
    "#         print('length right_signal :', len(right_signal))\n",
    "#         print('right_signal: ', right_signal)\n",
    "        \n",
    "#         good_right_signals = right_signal[np.where(right_signal < 650)] = 0\n",
    "#         print('good right signals: ', good_right_signals)\n",
    "#         print('length good right signals: ', len(good_right_signals)\n",
    "#         print('type good right signals: ', type(good_right_signals)\n",
    "        \n",
    "        \n",
    "#         print('left_max: ', left_max)\n",
    "#         print('right_max: ', right_max)\n",
    "        \n",
    "        \n",
    "        # conditionals to check first centroid\n",
    "        if abs(self.prev_right_center - right_max) < 20:\n",
    "                self.prev_right_center = right_max\n",
    "                right_x_vals.append(right_max)\n",
    "        else:\n",
    "            right_x_vals.append(self.prev_right_center)\n",
    "\n",
    "        if abs(self.prev_left_center - left_max) < 20:\n",
    "            self.prev_left_center = left_max\n",
    "            left_x_vals.append(left_max)\n",
    "        else:\n",
    "            left_x_vals.append(self.prev_left_center)\n",
    "            # append the previous left center\n",
    "\n",
    "\n",
    "        \n",
    "        for level in range(1, int(img_height / window_height)):\n",
    "            window_start_vertical = img_height - (level + 1) * window_height\n",
    "            window_end_vertical = img_height - (level * window_height)\n",
    "            \n",
    "            image_layer = np.sum(mask[window_start_vertical : window_end_vertical,:], axis = 0)\n",
    "            conv_signal = np.convolve(window, image_layer)\n",
    "\n",
    "            left_min_idx = int(max(left_max - margin_width, 0))\n",
    "            left_max_idx = int(min(left_max + margin_width, img_width))\n",
    "            \n",
    "            right_min_idx = int(max(right_max - margin_width, 0))\n",
    "            right_max_idx = int(min(right_max + margin_width, img_width))\n",
    "            \n",
    "            \n",
    "            left_center = np.argmax(conv_signal[left_min_idx:left_max_idx]) + left_min_idx\n",
    "            right_center = np.argmax(conv_signal[right_min_idx:right_max_idx]) + right_min_idx\n",
    "            \n",
    "            # add in something about whether to collect the centroid or not!\n",
    "            if abs(self.prev_right_center - right_center) < 20:\n",
    "                self.prev_right_center = right_center\n",
    "                right_x_vals.append(right_center)\n",
    "\n",
    "            if abs(self.prev_left_center - left_center) < 20:\n",
    "                self.prev_left_center = left_center\n",
    "                left_x_vals.append(left_center)\n",
    "\n",
    "#         print('left_x_vals: ', left_x_vals)\n",
    "#         print('right_x_vals: ', right_x_vals)\n",
    "        \n",
    "            \n",
    "        \n",
    "        left_centers = moving_average_scale(left_x_vals)\n",
    "        right_centers = moving_average_scale(right_x_vals)\n",
    "        \n",
    "        \n",
    "  \n",
    "        \n",
    "        if len(right_centers) > len(left_centers):\n",
    "            # add left centers\n",
    "            left_centers = add_recent_centers(len(right_centers), left_centers, self.left_recent_centers_averaged, self.smooth_factor)\n",
    "        elif len(left_centers) > len(right_centers):\n",
    "            # add right centers\n",
    "            right_centers = add_recent_centers(len(left_centers), right_centers, self.right_recent_centers_averaged, self.smooth_factor)\n",
    "                \n",
    "        \n",
    "#         print('left_centers after add_recent_centers: ', left_centers)\n",
    "#         print('right_centers after add_recent_centers: ', right_centers)\n",
    "#         print('self.right_recent_centers averaged: ', self.right_recent_centers_averaged)\n",
    "        \n",
    "        # once left and right centers are squared away!\n",
    "        if len(left_centers) == len(right_centers):\n",
    "            centroids = [[a,b] for a,b in zip(left_centers, right_centers)] \n",
    "            for item in centroids:\n",
    "                self.recent_centers.append(item)\n",
    "\n",
    "            \n",
    "            \n",
    "        left_recent_centers = []\n",
    "        right_recent_centers = []\n",
    "        for i in reversed(range(len(self.recent_centers))):            \n",
    "            if len(left_recent_centers) < self.smooth_factor:\n",
    "                left_recent_centers.append(self.recent_centers[i][0])\n",
    "                right_recent_centers.append(self.recent_centers[i][1])\n",
    "        \n",
    "        self.left_recent_centers_averaged = moving_average_scale(left_recent_centers)\n",
    "        self.right_recent_centers_averaged = moving_average_scale(right_recent_centers)\n",
    "\n",
    "        \n",
    "#         print('left_recent_centers: ', left_recent_centers)\n",
    "#         print('right_recent_centers: ', right_recent_centers)\n",
    "            \n",
    "#         print('self.left_recent_centers_averaged: ', self.left_recent_centers_averaged)\n",
    "#         print('self.right_recent_centers_averaged: ', self.right_recent_centers_averaged)\n",
    "        \n",
    "        \n",
    "        if (len(self.left_recent_centers_averaged) & len(self.right_recent_centers_averaged)) < self.smooth_factor:\n",
    "            self.recent_centers_averaged = [[a,b] for a,b in list(zip(self.left_recent_centers_averaged, self.right_recent_centers_averaged))]\n",
    "        else:\n",
    "            self.recent_centers_averaged = [[a,b] for a,b in list(zip(self.left_recent_centers_averaged[-self.smooth_factor:], \n",
    "                                                                 self.right_recent_centers_averaged[-self.smooth_factor:]))]\n",
    "  \n",
    "        print('RECENT_CENTERS_AVERAGED: ', self.recent_centers_averaged)\n",
    "        \n",
    "        return self.recent_centers_averaged\n",
    "    #################################################################################################################\n",
    "    #################################################################################################################\n",
    "    \n",
    "    def fit_lines(self, window_centroids, leftx, rightx, window_width, window_height):\n",
    "        \n",
    "    \n",
    "        # TODO: uneven lengths for y values\n",
    "        if len(leftx) == len(rightx):\n",
    "            vert_start = self.img_size[1] - window_height/2\n",
    "            vert_stop = window_height\n",
    "            y_values = np.linspace(vert_start, vert_stop, len(leftx), dtype = np.float32)\n",
    "\n",
    "        \n",
    "        # fit to a polynomial (ax^2 + bx + c)\n",
    "        left_fit = np.polyfit(y_values, leftx, 2)\n",
    "        left_fitx = left_fit[0] * (y_values**2) + left_fit[1] * y_values + left_fit[2]\n",
    "        left_fitx = np.array(left_fitx, np.int32)\n",
    "        \n",
    "        right_fit = np.polyfit(y_values, rightx, 2)\n",
    "        right_fitx = right_fit[0] * (y_values**2) + right_fit[1] * y_values + right_fit[2]\n",
    "        right_fitx = np.array(right_fitx, np.int32)\n",
    "        shift = 0\n",
    "        \n",
    "        left_lane = np.array(list(zip(np.concatenate((left_fitx - window_width/10 + shift, left_fitx[::-1] + window_width/10 + shift), axis = 0),\n",
    "                            np.concatenate((y_values, y_values[::-1]), axis = 0))), dtype = np.int32)\n",
    "        \n",
    "        right_lane = np.array(list(zip(np.concatenate((right_fitx - window_width/10 + shift, right_fitx[::-1] + window_width/10 + shift), axis = 0),\n",
    "                            np.concatenate((y_values, y_values[::-1]), axis = 0))), dtype = np.int32)\n",
    "\n",
    "        return left_lane, right_lane, left_fitx, right_fitx, y_values\n",
    "    \n",
    "    #################################################################################################################\n",
    "    #################################################################################################################\n",
    "    \n",
    "    def draw_lines(self, left_lane, right_lane, left_fitx, right_fitx, y_values):\n",
    "        lanes = np.zeros((self.img_size[1], self.img_size[0], 3), dtype = np.uint8)\n",
    "        cv2.fillPoly(lanes, [left_lane], color = [255, 0, 0])\n",
    "        cv2.fillPoly(lanes, [right_lane], color = [0,255, 0])\n",
    "#         ym_per_pix = 1/self.y_pixels_per_meter\n",
    "#         xm_per_pix = 1/self.x_pixels_per_meter\n",
    "        \n",
    "        \n",
    "#         ym_per_pix = self.y_pixels_per_meter\n",
    "#         xm_per_pix = self.x_pixels_per_meter\n",
    "        \n",
    "#         curve_fit_cr = np.polyfit(np.array(y_values, np.float32)\n",
    "#                                   * ym_per_pix, np.array(left_fitx, np.float32) * xm_per_pix, 2)\n",
    "#         curverad = ((1 + (2*curve_fit_cr[0] * y_values[-1] * ym_per_pix + curve_fit_cr[1]) **2) ** 1.5) / np.absolute(2 * curve_fit_cr[0])\n",
    "        \n",
    "        \n",
    "#         camera_center = (left_fitx[-1] + right_fitx[-1]) / 2\n",
    "#         center_diff = (camera_center - self.img_size[0]/2) * xm_per_pix\n",
    "        \n",
    "#         side_pos = 'left'\n",
    "#         if center_diff <= 0:\n",
    "#             side_pos = 'right'\n",
    "            \n",
    "\n",
    "#         cv2.putText(lanes, 'Radius of curvature = ' + str(round(curverad, 3)) + '(m)', (50, 50), cv2.FONT_HERSHEY_SIMPLEX, 1, (255, 255, 255), 2)\n",
    "#         cv2.putText(lanes, 'Vehicle is ' + str(abs(round(center_diff, 3))) + 'm ' + side_pos + ' of center', (50, 100), cv2.FONT_HERSHEY_SIMPLEX, 1, (255, 255, 255), 2)\n",
    "        return lanes\n",
    "\n",
    "#################################################################################################################\n",
    "#################################################################################################################\n",
    "\n",
    "    def get_line_pts(self, mask, window_centroids):\n",
    "        \"\"\"\n",
    "        Here we find the points that will be used to draw the left and right windows\n",
    "        \"\"\"        \n",
    "        # Points we will use for drawing on each level\n",
    "        left_points = np.zeros_like(mask)\n",
    "        right_points = np.zeros_like(left_points)\n",
    "        \n",
    "        left_x = []\n",
    "        right_x = []\n",
    "        \n",
    "#         print('inside get_line_pts window_centroids are :', window_centroids)\n",
    "#         print('inside get_line_pts window_centroids type :', type(window_centroids))\n",
    "        \n",
    "        \n",
    "        for level in range(0, len(window_centroids)):\n",
    "            # window_mask if a function to draw window boxes\n",
    "            left_x.append(window_centroids[level][0])\n",
    "            right_x.append(window_centroids[level][1])\n",
    "            \n",
    "            left_mask = draw_window_box(mask, self.window_width, self.window_height, \n",
    "                                        window_centroids[level][0],\n",
    "                                        level)\n",
    "            right_mask = draw_window_box(mask, self.window_width, self.window_height, \n",
    "                                        window_centroids[level][1],\n",
    "                                        level)\n",
    "            \n",
    "            left_points[(left_points == 255) | ((left_mask == 1))] = 255\n",
    "            right_points[(right_points == 255) | ((right_mask == 1))] = 255\n",
    "            \n",
    "            \n",
    "        \n",
    "        return [left_points, right_points], [left_x, right_x]\n",
    "        \n",
    "   "
   ]
  },
  {
   "cell_type": "code",
   "execution_count": 10,
   "metadata": {
    "collapsed": true,
    "deletable": true,
    "editable": true
   },
   "outputs": [],
   "source": [
    "import math\n",
    "def moving_average_scale(a):\n",
    "    \"\"\"\n",
    "    This function takes in a given array (a) and performs mean normalization\n",
    "    \"\"\"\n",
    "    mean = np.mean(a)\n",
    "    std = np.std(a)\n",
    "    \n",
    "    if -2 <= std <= 2:\n",
    "        return a\n",
    "    \n",
    "    \n",
    "    good_points = []\n",
    "    for item in a:\n",
    "        if mean - 3*std <= item <= mean + 3*std:\n",
    "            good_points.append(item)\n",
    "        else:\n",
    "            good_points.append(mean)\n",
    "    \n",
    "    mean = np.mean(good_points)\n",
    "    std = np.std(good_points)\n",
    "    # now grab standard scaling list\n",
    "    standard = [((x - mean) / std) for x in good_points]\n",
    "    results = [int(a - b) for a,b in zip(good_points, standard)]\n",
    "    return results"
   ]
  },
  {
   "cell_type": "code",
   "execution_count": 11,
   "metadata": {
    "collapsed": false,
    "deletable": true,
    "editable": true
   },
   "outputs": [],
   "source": [
    "def draw_window_box(mask, window_width, window_height, window_centroid, level):\n",
    "    box = np.zeros_like(mask)\n",
    "    window_start_vertical = int(mask.shape[0] - (level + 1) * (window_height))\n",
    "    window_stop_vertical = int(mask.shape[0] - (level * window_height))\n",
    "\n",
    "    window_start_horizontal = max(0, int(window_centroid - window_width))\n",
    "    window_stop_horizontal = min(int(window_centroid + window_width), mask.shape[1])\n",
    "\n",
    "    box[window_start_vertical: window_stop_vertical, window_start_horizontal: window_stop_horizontal] = 1\n",
    "    return box"
   ]
  },
  {
   "cell_type": "code",
   "execution_count": 12,
   "metadata": {
    "collapsed": false,
    "deletable": true,
    "editable": true
   },
   "outputs": [],
   "source": [
    "def draw_lines_weighted(left_points, right_points, mask):\n",
    "        \"\"\"\n",
    "        input: left_points : binary mask for left lane line\n",
    "                right_points: binary mask for right lane line\n",
    "        Draw lines according to binary image mask weight\n",
    "        \"\"\"\n",
    "    \n",
    "        template = np.asarray(left_points + right_points).astype(np.uint8)\n",
    "        tmp = np.zeros((template.shape[0], template.shape[1], 3)).astype(np.uint8)\n",
    "        # make window red\n",
    "        \n",
    "        tmp[:,:,0] = np.zeros_like(template)\n",
    "        tmp[:,:,1] = template[:,:]\n",
    "        tmp[:,:,2] = tmp[:,:,0]\n",
    "        \n",
    "        combine_mask = np.array(cv2.merge((mask, mask, mask))).astype(np.uint8)\n",
    "        weighted = cv2.addWeighted(combine_mask, 1, tmp, 0.5, 0.0)\n",
    "        \n",
    "        return weighted, mask\n",
    "        "
   ]
  },
  {
   "cell_type": "markdown",
   "metadata": {
    "deletable": true,
    "editable": true
   },
   "source": [
    "### Lane Finder"
   ]
  },
  {
   "cell_type": "markdown",
   "metadata": {
    "deletable": true,
    "editable": true
   },
   "source": [
    "* For type uint8 LAB images the range is from (0, 255) for each channel\n",
    "* Isolate green stuff by looking at the l in LAB. L = lightness,\n",
    "* a: color opponents green-red\n",
    "* b: color opponents blue-yellow, yellow has positive values, blue has negative values\n",
    "        "
   ]
  },
  {
   "cell_type": "code",
   "execution_count": 13,
   "metadata": {
    "collapsed": false,
    "deletable": true,
    "editable": true
   },
   "outputs": [],
   "source": [
    "laneFinder = LaneFinder(settings.ORIGINAL_SIZE, settings.UNWARPED_SIZE, camera_matrix, dist_coeffs, \n",
    "                        M, x_pixels_per_meter, y_pixels_per_meter)"
   ]
  },
  {
   "cell_type": "markdown",
   "metadata": {
    "deletable": true,
    "editable": true
   },
   "source": [
    "#### Process images from data frame"
   ]
  },
  {
   "cell_type": "code",
   "execution_count": 14,
   "metadata": {
    "collapsed": false,
    "deletable": true,
    "editable": true
   },
   "outputs": [
    {
     "name": "stdout",
     "output_type": "stream",
     "text": [
      "COUNT:  0\n",
      "right_signal shape:  (351,)\n",
      "describe right signal:  DescribeResult(nobs=351, minmax=(0.0, 192.0), mean=33.390313390313388, variance=3380.1472201872198, skewness=2.0863682220287982, kurtosis=2.896520987909656)\n",
      "good_rights:  [ 111.  154.  192.  192.  192.  192.  192.  192.  192.  192.  192.  192.\n",
      "  192.  192.  192.  192.  192.  192.  192.  192.  192.  192.  192.  192.\n",
      "  192.  192.  192.  192.  192.  192.  192.  192.  192.  192.  192.  192.\n",
      "  189.  185.  171.  125.]\n",
      "inside add_recent_centers lst is : [372, 372, 373, 375, 370, 371]\n",
      "lst is:  [372, 372, 373, 375, 370, 371, 371]\n",
      "lst is:  [372, 372, 373, 375, 370, 371, 371, 370]\n",
      "RECENT_CENTERS_AVERAGED:  [[170, 370], [176, 371], [171, 371], [182, 370], [173, 375], [173, 373], [180, 372], [180, 372]]\n",
      "COUNT:  1\n",
      "right_signal shape:  (351,)\n",
      "describe right signal:  DescribeResult(nobs=351, minmax=(0.0, 192.0), mean=33.390313390313388, variance=3380.1472201872198, skewness=2.0863682220287982, kurtosis=2.896520987909656)\n",
      "good_rights:  [ 111.  154.  192.  192.  192.  192.  192.  192.  192.  192.  192.  192.\n",
      "  192.  192.  192.  192.  192.  192.  192.  192.  192.  192.  192.  192.\n",
      "  192.  192.  192.  192.  192.  192.  192.  192.  192.  192.  192.  192.\n",
      "  189.  185.  171.  125.]\n",
      "inside add_recent_centers lst is : [372, 372, 373, 375, 370, 371]\n",
      "lst outbound:  [372, 372, 373, 375, 370, 371, 372, 373]\n",
      "RECENT_CENTERS_AVERAGED:  [[170, 373], [175, 372], [171, 371], [182, 370], [173, 375], [173, 373], [179, 372], [179, 372], [170, 370], [175, 371], [171, 371], [182, 370], [173, 375], [173, 373], [179, 372]]\n",
      "COUNT:  2\n",
      "right_signal shape:  (351,)\n",
      "describe right signal:  DescribeResult(nobs=351, minmax=(0.0, 348.0), mean=54.245014245014247, variance=11621.494082214083, skewness=2.091457540116253, kurtosis=2.873397746714046)\n",
      "good_rights:  [ 103.  103.  103.  103.  103.  103.  103.  103.  103.  103.  103.  103.\n",
      "  103.  103.  103.  103.  103.  103.  103.  106.  107.  107.  107.  107.\n",
      "  107.  107.  107.  107.  107.  107.  107.  107.  107.  107.  107.  107.\n",
      "  107.  107.  107.  115.  196.  275.  348.  348.  348.  348.  348.  348.\n",
      "  348.  348.  348.  348.  348.  348.  348.  348.  348.  348.  348.  348.\n",
      "  348.  348.  348.  348.  348.  348.  348.  348.  348.  348.  348.  348.\n",
      "  348.  348.  348.  348.  343.  337.  311.  233.  152.]\n",
      "inside add_recent_centers lst is : [372, 372, 372, 373, 367, 370]\n",
      "lst outbound:  [372, 372, 372, 373, 367, 370, 372, 373]\n",
      "RECENT_CENTERS_AVERAGED:  [[181, 373], [174, 372], [175, 370], [172, 367], [173, 373], [173, 372], [174, 372], [179, 372], [170, 373], [175, 372], [172, 371], [182, 370], [173, 375], [173, 373], [179, 372]]\n",
      "COUNT:  3\n",
      "right_signal shape:  (351,)\n",
      "describe right signal:  DescribeResult(nobs=351, minmax=(0.0, 501.0), mean=74.643874643874639, variance=23873.618526658523, skewness=2.156083937315429, kurtosis=3.1015497077214462)\n",
      "good_rights:  [ 133.  133.  133.  133.  133.  133.  133.  133.  132.  132.  132.  132.\n",
      "  132.  132.  132.  132.  132.  132.  132.  134.  134.  134.  134.  134.\n",
      "  134.  134.  134.  134.  134.  134.  134.  134.  133.  132.  132.  132.\n",
      "  132.  132.  132.  131.  248.  364.  459.  499.  500.  500.  500.  500.\n",
      "  500.  500.  500.  500.  500.  500.  500.  500.  500.  500.  500.  500.\n",
      "  500.  500.  500.  500.  500.  500.  500.  500.  500.  500.  500.  501.\n",
      "  501.  501.  501.  501.  501.  496.  459.  370.  253.  137.]\n",
      "RECENT_CENTERS_AVERAGED:  [[174, 367], [172, 367], [177, 369], [176, 367], [173, 367], [174, 369], [174, 370], [174, 369], [180, 371], [174, 371], [174, 369], [172, 367], [173, 371], [173, 371], [174, 371]]\n",
      "COUNT:  4\n",
      "right_signal shape:  (351,)\n",
      "describe right signal:  DescribeResult(nobs=351, minmax=(0.0, 486.0), mean=68.603988603988597, variance=22238.342726902723, skewness=2.2752448803195366, kurtosis=3.5096455704927125)\n",
      "good_rights:  [ 115.  224.  335.  436.  486.  486.  486.  486.  486.  486.  486.  486.\n",
      "  486.  486.  486.  486.  486.  486.  486.  486.  486.  486.  486.  486.\n",
      "  486.  486.  486.  486.  486.  486.  486.  486.  486.  486.  486.  486.\n",
      "  486.  486.  483.  460.  371.  262.  151.]\n",
      "inside add_recent_centers lst is : [372, 372, 370, 368, 363]\n",
      "lst outbound:  [372, 372, 370, 368, 363, 369, 367, 367]\n",
      "RECENT_CENTERS_AVERAGED:  [[174, 367], [172, 367], [173, 368], [175, 365], [174, 368], [174, 369], [174, 370], [174, 370], [174, 366], [172, 366], [176, 369], [175, 366], [173, 366], [174, 369], [174, 369]]\n",
      "COUNT:  5\n",
      "right_signal shape:  (351,)\n",
      "describe right signal:  DescribeResult(nobs=351, minmax=(0.0, 384.0), mean=55.612535612535609, variance=13508.94087098087, skewness=2.310947978291357, kurtosis=3.6480452215887844)\n",
      "good_rights:  [ 114.  193.  270.  343.  381.  384.  384.  384.  384.  384.  384.  384.\n",
      "  384.  384.  384.  384.  384.  384.  384.  384.  384.  384.  384.  384.\n",
      "  384.  384.  384.  384.  384.  384.  384.  384.  384.  384.  384.  384.\n",
      "  384.  384.  367.  328.  270.  191.  114.]\n",
      "inside add_recent_centers lst is : [372, 372, 369, 370, 364, 364]\n",
      "lst outbound:  [372, 372, 369, 370, 364, 364, 370]\n",
      "RECENT_CENTERS_AVERAGED:  [[171, 369], [174, 365], [172, 365], [175, 369], [175, 368], [173, 370], [173, 370], [173, 367], [172, 367], [172, 368], [174, 364], [173, 368], [173, 369], [173, 370], [173, 370]]\n",
      "COUNT:  6\n",
      "right_signal shape:  (351,)\n",
      "describe right signal:  DescribeResult(nobs=351, minmax=(0.0, 147.0), mean=27.122507122507123, variance=2061.7592348392341, skewness=1.8894902390490937, kurtosis=2.1763516515841257)\n",
      "good_rights:  [ 119.  145.  147.  147.  147.  147.  147.  147.  147.  147.  147.  147.\n",
      "  147.  147.  147.  147.  147.  147.  147.  147.  147.  147.  147.  147.\n",
      "  147.  147.  147.  147.  147.  147.  147.  147.  147.  147.  147.  146.\n",
      "  137.  126.]\n",
      "inside add_recent_centers lst is : [372, 367, 370, 364, 365, 364]\n",
      "lst outbound:  [372, 367, 370, 364, 365, 364, 370, 370]\n",
      "RECENT_CENTERS_AVERAGED:  [[170, 369], [175, 369], [176, 365], [173, 366], [178, 365], [178, 369], [179, 367], [179, 370], [170, 369], [175, 365], [172, 365], [176, 369], [176, 368], [174, 370], [174, 370]]\n",
      "COUNT:  7\n",
      "right_signal shape:  (351,)\n",
      "describe right signal:  DescribeResult(nobs=351, minmax=(0.0, 38.0), mean=7.9772079772079776, variance=128.70233618233618, skewness=1.6832352475753463, kurtosis=1.5674015667077619)\n",
      "good_rights:  []\n",
      "inside add_recent_centers lst is : [363]\n",
      "lst outbound:  [363, 369, 369, 369, 369, 369, 369, 369]\n",
      "RECENT_CENTERS_AVERAGED:  [[170, 368], [172, 368], [177, 368], [173, 368], [174, 368], [178, 368], [175, 368], [175, 364], [170, 369], [175, 369], [176, 365], [173, 366], [178, 365], [178, 369], [179, 367]]\n",
      "COUNT:  8\n",
      "right_signal shape:  (351,)\n",
      "describe right signal:  DescribeResult(nobs=351, minmax=(0.0, 35.0), mean=10.028490028490028, variance=120.45061457061458, skewness=1.0391874209930914, kurtosis=0.013035831961668798)\n",
      "good_rights:  []\n",
      "inside add_recent_centers lst is : [363]\n",
      "lst outbound:  [363, 368, 368, 368, 368, 368, 368, 368]\n",
      "RECENT_CENTERS_AVERAGED:  [[169, 368], [171, 368], [171, 368], [177, 368], [174, 368], [178, 368], [178, 368], [178, 363], [170, 369], [171, 369], [177, 369], [173, 369], [174, 369], [178, 369], [174, 369]]\n",
      "COUNT:  9\n",
      "right_signal shape:  (351,)\n",
      "describe right signal:  DescribeResult(nobs=351, minmax=(0.0, 55.0), mean=9.5726495726495724, variance=254.70827838827839, skewness=2.1125343125110803, kurtosis=3.115592982347396)\n",
      "good_rights:  []\n",
      "RECENT_CENTERS_AVERAGED:  [[175, 362], [171, 364], [172, 365], [178, 365], [174, 362], [179, 362], [180, 369], [180, 363], [169, 367], [171, 367], [172, 367], [177, 367], [175, 367], [179, 367], [179, 367]]\n",
      "COUNT:  10\n",
      "right_signal shape:  (351,)\n",
      "describe right signal:  DescribeResult(nobs=351, minmax=(0.0, 64.0), mean=13.903133903133902, variance=373.21916157916149, skewness=1.6519186523313494, kurtosis=1.6612565332473705)\n",
      "good_rights:  []\n",
      "inside add_recent_centers lst is : [373, 369, 369, 367]\n",
      "lst outbound:  [373, 369, 369, 367, 362, 365, 365, 364]\n",
      "RECENT_CENTERS_AVERAGED:  [[168, 364], [170, 365], [171, 365], [172, 362], [179, 366], [174, 368], [179, 368], [180, 370], [175, 362], [171, 364], [171, 365], [178, 365], [174, 362], [179, 362], [180, 369]]\n",
      "COUNT:  11\n",
      "right_signal shape:  (351,)\n",
      "describe right signal:  DescribeResult(nobs=351, minmax=(0.0, 63.0), mean=14.472934472934472, variance=370.19283679283689, skewness=1.521807809867047, kurtosis=1.1758522194363046)\n",
      "good_rights:  []\n",
      "inside add_recent_centers lst is : [374, 370, 370, 369, 368]\n",
      "lst outbound:  [374, 370, 370, 369, 368, 368, 366, 362]\n",
      "RECENT_CENTERS_AVERAGED:  [[166, 363], [169, 366], [169, 367], [176, 367], [177, 368], [178, 369], [173, 369], [179, 371], [168, 365], [169, 365], [170, 365], [172, 363], [178, 367], [173, 368], [179, 368]]\n",
      "COUNT:  12\n",
      "right_signal shape:  (351,)\n",
      "describe right signal:  DescribeResult(nobs=351, minmax=(0.0, 104.0), mean=15.612535612535613, variance=969.31801383801405, skewness=2.281206739944776, kurtosis=3.526741704133162)\n",
      "good_rights:  [ 101.  101.  101.  101.  101.  101.  101.  101.  101.  101.  101.  101.\n",
      "  101.  101.  101.  101.  101.  102.  103.  104.  104.  104.  104.  104.\n",
      "  104.  104.  104.  104.  104.  104.  104.  104.  104.  104.  104.]\n",
      "inside add_recent_centers lst is : [368]\n",
      "lst outbound:  [368, 366, 366, 366, 366, 366]\n",
      "RECENT_CENTERS_AVERAGED:  [[166, 366], [167, 366], [168, 366], [176, 366], [176, 366], [166, 367], [166, 363], [168, 366], [169, 367], [176, 367], [176, 368], [178, 369], [173, 369], [179, 371], [167, 365]]\n",
      "COUNT:  13\n",
      "right_signal shape:  (351,)\n",
      "describe right signal:  DescribeResult(nobs=351, minmax=(0.0, 99.0), mean=19.03133903133903, variance=949.69330077330096, skewness=1.8001145550006277, kurtosis=1.9132942139681237)\n",
      "good_rights:  []\n",
      "inside add_recent_centers lst is : [370, 370, 370, 370, 371, 363, 365]\n",
      "lst outbound:  [370, 370, 370, 370, 371, 363, 365, 366]\n",
      "RECENT_CENTERS_AVERAGED:  [[180, 366], [168, 365], [174, 364], [171, 369], [178, 368], [180, 368], [179, 368], [179, 368], [166, 366], [168, 366], [168, 366], [176, 366], [177, 366], [166, 367], [166, 363]]\n",
      "COUNT:  14\n",
      "right_signal shape:  (351,)\n",
      "describe right signal:  DescribeResult(nobs=351, minmax=(0.0, 265.0), mean=33.846153846153847, variance=6656.8676923076919, skewness=2.4190599999823887, kurtosis=3.944673041772849)\n",
      "good_rights:  [ 109.  182.  250.  265.  265.  265.  265.  265.  265.  265.  265.  265.\n",
      "  265.  265.  265.  265.  265.  265.  265.  265.  265.  265.  265.  265.\n",
      "  265.  265.  265.  265.  265.  265.  265.  265.  265.  265.  265.  265.\n",
      "  265.  265.  264.  230.  156.]\n",
      "inside add_recent_centers lst is : [370, 370, 369, 369, 365]\n",
      "lst outbound:  [370, 370, 369, 369, 365, 368, 368, 369]\n",
      "RECENT_CENTERS_AVERAGED:  [[166, 368], [172, 368], [170, 368], [172, 366], [172, 368], [179, 368], [180, 369], [180, 369], [180, 366], [169, 366], [175, 365], [171, 369], [178, 369], [180, 369], [180, 369]]\n"
     ]
    },
    {
     "data": {
      "image/png": "[encoded data removed]",
      "text/plain": [
       "<matplotlib.figure.Figure at 0x7f27200f9f98>"
      ]
     },
     "metadata": {},
     "output_type": "display_data"
    }
   ],
   "source": [
    "for i in range(15):\n",
    "    print('COUNT: ', i)\n",
    "    row = df.iloc[[i]]\n",
    "    impath = df.iloc[[i]]['image_path'].values[0]\n",
    "    img = mpimg.imread(impath)\n",
    "    result = laneFinder.process_image(img)\n",
    "    plt.imshow(result)\n",
    "    cv2.imwrite('./results/' + str(i) + 'processed' + '.jpg', cv2.cvtColor(result, cv2.COLOR_BGR2RGB))"
   ]
  },
  {
   "cell_type": "code",
   "execution_count": 15,
   "metadata": {
    "collapsed": false,
    "deletable": true,
    "editable": true
   },
   "outputs": [
    {
     "name": "stdout",
     "output_type": "stream",
     "text": [
      "right_signal shape:  (351,)\n",
      "describe right signal:  DescribeResult(nobs=351, minmax=(0.0, 64.0), mean=13.903133903133902, variance=373.21916157916149, skewness=1.6519186523313494, kurtosis=1.6612565332473705)\n",
      "good_rights:  []\n",
      "inside add_recent_centers lst is : [373, 369, 369, 367]\n",
      "lst outbound:  [373, 369, 369, 367, 368, 366, 368, 368]\n",
      "RECENT_CENTERS_AVERAGED:  [[167, 368], [168, 368], [170, 366], [172, 368], [177, 367], [173, 369], [179, 369], [166, 373], [166, 369], [172, 368], [170, 368], [172, 365], [172, 369], [178, 369], [179, 370]]\n"
     ]
    },
    {
     "data": {
      "text/plain": [
       "<matplotlib.image.AxesImage at 0x7f272004b748>"
      ]
     },
     "execution_count": 15,
     "metadata": {},
     "output_type": "execute_result"
    },
    {
     "data": {
      "image/png": "[encoded data removed]",
      "text/plain": [
       "<matplotlib.figure.Figure at 0x7f2720053cf8>"
      ]
     },
     "metadata": {},
     "output_type": "display_data"
    }
   ],
   "source": [
    "im = mpimg.imread(df.iloc[[10]]['image_path'].values[0])\n",
    "processed_img = laneFinder.find_lane(im)\n",
    "plt.imshow(processed_img)\n",
    "# road_lines, weighted, mask = laneFinder.find_lane(im)"
   ]
  },
  {
   "cell_type": "code",
   "execution_count": null,
   "metadata": {
    "collapsed": false,
    "deletable": true,
    "editable": true
   },
   "outputs": [],
   "source": [
    "plt.imshow(laneFinder.warp(im))"
   ]
  },
  {
   "cell_type": "code",
   "execution_count": null,
   "metadata": {
    "collapsed": false,
    "deletable": true,
    "editable": true
   },
   "outputs": [],
   "source": [
    "plt.imshow(laneFinder.add_weighted(laneFinder.warp(im), processed_img))"
   ]
  },
  {
   "cell_type": "code",
   "execution_count": null,
   "metadata": {
    "collapsed": true,
    "deletable": true,
    "editable": true
   },
   "outputs": [],
   "source": []
  },
  {
   "cell_type": "code",
   "execution_count": null,
   "metadata": {
    "collapsed": true,
    "deletable": true,
    "editable": true
   },
   "outputs": [],
   "source": []
  },
  {
   "cell_type": "code",
   "execution_count": null,
   "metadata": {
    "collapsed": true,
    "deletable": true,
    "editable": true
   },
   "outputs": [],
   "source": []
  },
  {
   "cell_type": "markdown",
   "metadata": {
    "deletable": true,
    "editable": true
   },
   "source": [
    "### Video Processing\n"
   ]
  },
  {
   "cell_type": "markdown",
   "metadata": {
    "deletable": true,
    "editable": true
   },
   "source": [
    "* Process image function that contains the entire pipeline"
   ]
  },
  {
   "cell_type": "code",
   "execution_count": null,
   "metadata": {
    "collapsed": false,
    "deletable": true,
    "editable": true
   },
   "outputs": [],
   "source": [
    "from moviepy.editor import VideoFileClip\n",
    "from IPython.display import HTML\n",
    "\n",
    "test_output = 'project_video_output1.mp4'\n",
    "clip1 = VideoFileClip(\"./data/project_video.mp4\")\n",
    "laneFinder = LaneFinder(settings.ORIGINAL_SIZE, settings.UNWARPED_SIZE, camera_matrix, dist_coeffs, \n",
    "                        M, x_pixels_per_meter, y_pixels_per_meter)\n",
    "white_clip = clip1.fl_image(laneFinder.process_image) #NOTE: this function expects color images!!\n",
    "%time white_clip.write_videofile(test_output, audio=False)"
   ]
  },
  {
   "cell_type": "markdown",
   "metadata": {
    "deletable": true,
    "editable": true
   },
   "source": [
    "### Thresholding functions"
   ]
  },
  {
   "cell_type": "code",
   "execution_count": null,
   "metadata": {
    "collapsed": true,
    "deletable": true,
    "editable": true
   },
   "outputs": [],
   "source": [
    "def abs_sobel_thresh(img, orient='x', thresh_min=0, thresh_max=255):\n",
    "    \n",
    "    # Apply the following steps to img\n",
    "    # 1) Convert to grayscale\n",
    "    # 2) Take the derivative in x or y given orient = 'x' or 'y'\n",
    "    # 3) Take the absolute value of the derivative or gradient\n",
    "    # 4) Scale to 8-bit (0 - 255) then convert to type = np.uint8\n",
    "    # 5) Create a mask of 1's where the scaled gradient magnitude \n",
    "            # is > thresh_min and < thresh_max\n",
    "    # 6) Return this mask as your binary_output image\n",
    "    gray = cv2.cvtColor(img, cv2.COLOR_BGR2GRAY)\n",
    "    if orient == 'x':\n",
    "        sobel = cv2.Sobel(gray, cv2.CV_64F, 1, 0)\n",
    "    if orient == 'y':\n",
    "        sobel = cv2.Sobel(gray, cv2.CV_64F, 0, 1)\n",
    "        \n",
    "    abs_sobel = np.absolute(sobel)\n",
    "    \n",
    "    scaled_sobel = np.uint8(255 * abs_sobel/np.max(abs_sobel))\n",
    "\n",
    "    binary_output = np.zeros_like(scaled_sobel)\n",
    "    binary_output[(scaled_sobel >= thresh_min) & (scaled_sobel <= thresh_max)] = 1\n",
    "    return binary_output"
   ]
  },
  {
   "cell_type": "code",
   "execution_count": null,
   "metadata": {
    "collapsed": true,
    "deletable": true,
    "editable": true
   },
   "outputs": [],
   "source": [
    "def mag_thresh(img, sobel_kernel=3, mag_thresh=(0, 255)):\n",
    "    # grayscale\n",
    "    img = cv2.cvtColor(img, cv2.COLOR_BGR2GRAY)\n",
    "    \n",
    "    # sobel x and y\n",
    "    sobelx = cv2.Sobel(img,cv2.CV_64F,1,0,ksize=sobel_kernel)\n",
    "    sobely = cv2.Sobel(img,cv2.CV_64F,0,1,ksize=sobel_kernel)\n",
    "\n",
    "    sobel_xy = np.sqrt(sobelx**2 + sobely**2)\n",
    "    print('sobel_xy: ', sobel_xy)\n",
    "    print(':: ',np.max(sobel_xy, axis = 0))\n",
    "    print('sobel_xy: ', sobel_xy.shape)\n",
    "    sf = np.max(sobel_xy/255)\n",
    "    gradmag = (sobel_xy/sf).astype(np.uint8)\n",
    "    \n",
    "    binary_output = np.zeros_like(gradmag)\n",
    "    binary_output[(gradmag >= mag_thresh[0]) & (gradmag <= mag_thresh[1])] = 1\n",
    "    \n",
    "    return binary_output"
   ]
  },
  {
   "cell_type": "code",
   "execution_count": null,
   "metadata": {
    "collapsed": true,
    "deletable": true,
    "editable": true
   },
   "outputs": [],
   "source": [
    "def dir_threshold(img, sobel_kernel=3, thresh=(0, np.pi/2)):\n",
    "    gray = cv2.cvtColor(img, cv2.COLOR_BGR2GRAY)\n",
    "    sobelx = cv2.Sobel(gray, cv2.CV_64F, 1, 0, ksize = sobel_kernel)\n",
    "    sobely = cv2.Sobel(gray, cv2.CV_64F, 0, 1, ksize = sobel_kernel)\n",
    "    abs_x= np.absolute(sobelx)\n",
    "    abs_y = np.absolute(sobely)\n",
    "    \n",
    "    \n",
    "    direction = np.arctan2(abs_y, abs_x)\n",
    "    \n",
    "    binary_output = np.zeros_like(direction)\n",
    "    binary_output[(direction >= thresh[0]) & (direction <= thresh[1])] = 1\n",
    "    return binary_output"
   ]
  },
  {
   "cell_type": "code",
   "execution_count": null,
   "metadata": {
    "collapsed": true,
    "deletable": true,
    "editable": true
   },
   "outputs": [],
   "source": [
    "def color_threshold(img, sthresh=(0, 255), vthresh = (0, 255)):\n",
    "    \"\"\"\n",
    "    This function takes in two thresholds, s in HLS and v in HSV and the image and it \n",
    "    returns the combination output binary of both gradients\n",
    "    \"\"\"\n",
    "    hls = cv2.cvtColor(img, cv2.COLOR_BGR2HLS)\n",
    "    # 1) Convert to HLS color space\n",
    "    # 2) Apply a threshold to the S channel\n",
    "    \n",
    "    # s channel\n",
    "    s = hls[:,:,2]\n",
    "    s_binary = np.zeros_like(s)\n",
    "    s_binary[(s > sthresh[0]) & (s <= sthresh[1])] = 1\n",
    "    \n",
    "    # v channel\n",
    "    hsv = cv2.cvtColor(img, cv2.COLOR_BGR2HSV)\n",
    "    # isolate v channel\n",
    "    v = hsv[:,:,2]\n",
    "    v_binary = np.zeros_like(v)\n",
    "    v_binary[(v > vthresh[0]) & (v <= vthresh[1])] = 1\n",
    "\n",
    "    # create combination of both binaries as output\n",
    "    output_binary = np.zeros_like(s)\n",
    "    output_binary[(s_binary == 1) | (v_binary == 1)] = 255\n",
    "\n",
    "    return output_binary"
   ]
  }
 ],
 "metadata": {
  "kernelspec": {
   "display_name": "Python 3",
   "language": "python",
   "name": "python3"
  },
  "language_info": {
   "codemirror_mode": {
    "name": "ipython",
    "version": 3
   },
   "file_extension": ".py",
   "mimetype": "text/x-python",
   "name": "python",
   "nbconvert_exporter": "python",
   "pygments_lexer": "ipython3",
   "version": "3.5.3"
  }
 },
 "nbformat": 4,
 "nbformat_minor": 2
}
